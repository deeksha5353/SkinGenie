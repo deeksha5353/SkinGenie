{
 "cells": [
  {
   "cell_type": "code",
   "execution_count": 2,
   "metadata": {},
   "outputs": [
    {
     "ename": "ValueError",
     "evalue": "invalid literal for int() with base 10: ''",
     "output_type": "error",
     "traceback": [
      "\u001b[1;31m---------------------------------------------------------------------------\u001b[0m",
      "\u001b[1;31mValueError\u001b[0m                                Traceback (most recent call last)",
      "Cell \u001b[1;32mIn[2], line 1\u001b[0m\n\u001b[1;32m----> 1\u001b[0m marks \u001b[38;5;241m=\u001b[39m \u001b[38;5;28;43mint\u001b[39;49m\u001b[43m(\u001b[49m\u001b[38;5;28;43minput\u001b[39;49m\u001b[43m(\u001b[49m\u001b[38;5;124;43m\"\u001b[39;49m\u001b[38;5;124;43mEnter the marks: \u001b[39;49m\u001b[38;5;124;43m\"\u001b[39;49m\u001b[43m)\u001b[49m\u001b[43m)\u001b[49m\n\u001b[0;32m      2\u001b[0m \u001b[38;5;28;01mif\u001b[39;00m marks \u001b[38;5;241m>\u001b[39m\u001b[38;5;241m=\u001b[39m \u001b[38;5;241m90\u001b[39m:\n\u001b[0;32m      3\u001b[0m     \u001b[38;5;28mprint\u001b[39m(\u001b[38;5;124m'\u001b[39m\u001b[38;5;124mA+\u001b[39m\u001b[38;5;124m'\u001b[39m)\n",
      "\u001b[1;31mValueError\u001b[0m: invalid literal for int() with base 10: ''"
     ]
    }
   ],
   "source": [
    "marks = int(input(\"Enter the marks: \"))\n",
    "if marks >= 90:\n",
    "    print('A+')\n",
    "if marks >= 75:\n",
    "    print('A')\n",
    "if marks >= 60:\n",
    "    print('B')    \n",
    "if marks < 60:\n",
    "    print('FAIL')"
   ]
  },
  {
   "cell_type": "code",
   "execution_count": null,
   "metadata": {},
   "outputs": [
    {
     "name": "stdout",
     "output_type": "stream",
     "text": [
      "B\n"
     ]
    }
   ],
   "source": [
    "marks = int(input(\"Enter the marks: \"))\n",
    "if marks >= 90:\n",
    "    print('A+')\n",
    "elif marks >= 75:\n",
    "    print('A')\n",
    "elif marks >= 60:\n",
    "    print('B')    \n",
    "elif marks < 60:\n",
    "    print('FAIL')\n",
    "else:\n",
    "    print('Invalid input')"
   ]
  },
  {
   "cell_type": "code",
   "execution_count": null,
   "metadata": {},
   "outputs": [
    {
     "name": "stdout",
     "output_type": "stream",
     "text": [
      "You are not eligible to vote\n"
     ]
    }
   ],
   "source": [
    "age = int(input(\"Enter your age:\"))\n",
    "if age >= 18:\n",
    "    print(\"You are eligible to vote\")\n",
    "else:\n",
    "    print(\"You are not eligible to vote\")"
   ]
  },
  {
   "cell_type": "code",
   "execution_count": null,
   "metadata": {},
   "outputs": [
    {
     "name": "stdout",
     "output_type": "stream",
     "text": [
      "The number is positive\n"
     ]
    }
   ],
   "source": [
    "num = float(input(\"Enter a number: \"))\n",
    "if num >= 0:\n",
    "    print(\"The number is positive\")\n",
    "else :\n",
    "    print(\"The number is negative\")\n",
    "\n"
   ]
  },
  {
   "cell_type": "code",
   "execution_count": null,
   "metadata": {},
   "outputs": [
    {
     "name": "stdout",
     "output_type": "stream",
     "text": [
      "The number is odd\n"
     ]
    }
   ],
   "source": [
    "num = int(input(\"Enter a number: \"))\n",
    "if num % 2 ==0 :\n",
    "    print(\"The number is even\") \n",
    "else:\n",
    "    print(\"The number is odd\")\n",
    "   \n"
   ]
  },
  {
   "cell_type": "code",
   "execution_count": null,
   "metadata": {},
   "outputs": [
    {
     "name": "stdout",
     "output_type": "stream",
     "text": [
      "The triangle is iscoselec\n"
     ]
    }
   ],
   "source": [
    "a = int(input(\"Enter the 1st side: \"))\n",
    "b = int(input(\"Enter the 2nd side: \"))\n",
    "c = int(input(\"Enter the 3rd side: \"))\n",
    "if a==b and b==c:\n",
    "    print(\"The triangle is equilateral\")\n",
    "elif a==b or b==c:\n",
    "    print(\"The triangle is iscoselec\")\n",
    "else :\n",
    "    print(\"The triangle is Scalene\")"
   ]
  },
  {
   "cell_type": "code",
   "execution_count": null,
   "metadata": {},
   "outputs": [
    {
     "name": "stdout",
     "output_type": "stream",
     "text": [
      "The alphabet is vowel\n"
     ]
    }
   ],
   "source": [
    "\n",
    "if alpha=='a' or alpha=='e' or alpha=='i' or alpha=='o' or alpha=='u':\n",
    "    print(\"The alphabet is vowel\")\n",
    "else:\n",
    "    print(\"The alphabet is consonant\")\n",
    "\n",
    "alpha = (input(\"Enter the alphabet: \"))"
   ]
  },
  {
   "cell_type": "code",
   "execution_count": null,
   "metadata": {},
   "outputs": [
    {
     "name": "stdout",
     "output_type": "stream",
     "text": [
      "consonant\n"
     ]
    }
   ],
   "source": [
    "alpha = (input(\"Enter the alphabet: \"))\n",
    "string = 'a','e','i','o','u'\n",
    "if alpha in string:\n",
    "    print(\"vowel\")\n",
    "else:\n",
    "    print(\"consonant\")"
   ]
  },
  {
   "cell_type": "code",
   "execution_count": null,
   "metadata": {},
   "outputs": [
    {
     "name": "stdout",
     "output_type": "stream",
     "text": [
      "banana\n",
      "apple\n",
      "guava\n",
      "orange\n",
      "pomegranate\n",
      "papaya\n",
      "cherry\n",
      "mango\n"
     ]
    }
   ],
   "source": [
    "fruits = ['banana','apple','guava','orange','tomato','pomegranate','papaya','cherry','mango']\n",
    "for x in fruits :\n",
    "    if x == \"tomato\" :\n",
    "        continue\n",
    "    print(x)\n"
   ]
  }
 ],
 "metadata": {
  "kernelspec": {
   "display_name": "base",
   "language": "python",
   "name": "python3"
  },
  "language_info": {
   "codemirror_mode": {
    "name": "ipython",
    "version": 3
   },
   "file_extension": ".py",
   "mimetype": "text/x-python",
   "name": "python",
   "nbconvert_exporter": "python",
   "pygments_lexer": "ipython3",
   "version": "3.12.8"
  }
 },
 "nbformat": 4,
 "nbformat_minor": 2
}
