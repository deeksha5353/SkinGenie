{
 "cells": [
  {
   "cell_type": "code",
   "execution_count": 5,
   "metadata": {},
   "outputs": [
    {
     "name": "stdout",
     "output_type": "stream",
     "text": [
      "78.5\n"
     ]
    }
   ],
   "source": [
    "r = int(input(\"Enter the radius of circle: \"))\n",
    "area = 3.14*(r)**2\n",
    "print(area)"
   ]
  },
  {
   "cell_type": "code",
   "execution_count": 8,
   "metadata": {},
   "outputs": [
    {
     "name": "stdout",
     "output_type": "stream",
     "text": [
      "45000\n",
      "4500.0\n",
      "2250.0\n",
      "51750.0\n"
     ]
    }
   ],
   "source": [
    "bS= int(input(\"Enter the basic salary: \"))\n",
    "print(bS)\n",
    "TDA = (10/100)*bS \n",
    "print(TDA)\n",
    "HRA = (5/100)*bS \n",
    "print(HRA)\n",
    "netS = bS + TDA + HRA \n",
    "print(netS)\n",
    "\n"
   ]
  }
 ],
 "metadata": {
  "kernelspec": {
   "display_name": "base",
   "language": "python",
   "name": "python3"
  },
  "language_info": {
   "codemirror_mode": {
    "name": "ipython",
    "version": 3
   },
   "file_extension": ".py",
   "mimetype": "text/x-python",
   "name": "python",
   "nbconvert_exporter": "python",
   "pygments_lexer": "ipython3",
   "version": "3.12.8"
  }
 },
 "nbformat": 4,
 "nbformat_minor": 2
}
