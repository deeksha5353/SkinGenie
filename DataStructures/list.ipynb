{
 "cells": [
  {
   "cell_type": "code",
   "execution_count": 9,
   "metadata": {},
   "outputs": [
    {
     "name": "stdout",
     "output_type": "stream",
     "text": [
      "['Insta', 'Zomato', 'Facebook', 'Whatsapp', 'Pinterest', 'Canva', 'Picsart', 'linkedIn', 'Myntra', 'Swiggy']\n"
     ]
    }
   ],
   "source": [
    "apps = ['Insta','Zomato','Facebook','Whatsapp','Pinterest','Canva','Picsart','linkedIn','Myntra','Swiggy']\n",
    "print(apps)"
   ]
  },
  {
   "cell_type": "code",
   "execution_count": 10,
   "metadata": {},
   "outputs": [
    {
     "name": "stdout",
     "output_type": "stream",
     "text": [
      "Insta # Zomato # Facebook # Whatsapp # Pinterest # Canva # Picsart # linkedIn # Myntra # Swiggy # "
     ]
    }
   ],
   "source": [
    "for i in apps :\n",
    "    print(i,end=\" # \")"
   ]
  },
  {
   "cell_type": "code",
   "execution_count": 12,
   "metadata": {},
   "outputs": [
    {
     "name": "stdout",
     "output_type": "stream",
     "text": [
      "Pinterest\n"
     ]
    }
   ],
   "source": [
    "print(apps[4])"
   ]
  },
  {
   "cell_type": "code",
   "execution_count": 13,
   "metadata": {},
   "outputs": [
    {
     "name": "stdout",
     "output_type": "stream",
     "text": [
      "linkedIn\n"
     ]
    }
   ],
   "source": [
    "print(apps[-3])"
   ]
  }
 ],
 "metadata": {
  "kernelspec": {
   "display_name": "base",
   "language": "python",
   "name": "python3"
  },
  "language_info": {
   "codemirror_mode": {
    "name": "ipython",
    "version": 3
   },
   "file_extension": ".py",
   "mimetype": "text/x-python",
   "name": "python",
   "nbconvert_exporter": "python",
   "pygments_lexer": "ipython3",
   "version": "3.12.8"
  }
 },
 "nbformat": 4,
 "nbformat_minor": 2
}
